{
 "cells": [
  {
   "cell_type": "code",
   "execution_count": 7,
   "metadata": {},
   "outputs": [
    {
     "name": "stdout",
     "output_type": "stream",
     "text": [
      "*\n",
      "#\n",
      "abc\n"
     ]
    }
   ],
   "source": [
    "a= int(input(\"enter a number\"))\n",
    "if  a>20:\n",
    "    print(\"*\")\n",
    "    print(\"#\")\n",
    "print(\"abc\")"
   ]
  },
  {
   "cell_type": "code",
   "execution_count": null,
   "metadata": {},
   "outputs": [
    {
     "name": "stdout",
     "output_type": "stream",
     "text": [
      "A\n",
      "B\n"
     ]
    }
   ],
   "source": [
    "marks = int(input(\"Enter your marks:\"))#\n",
    "if marks>=90:\n",
    "    print(\"A+\")\n",
    "if marks>=75:\n",
    "    print(\"A\")\n",
    "if marks>=60:\n",
    "    print(\"B\")\n",
    "if marks<60:\n",
    "    print(\"fail\")"
   ]
  },
  {
   "cell_type": "code",
   "execution_count": 5,
   "metadata": {},
   "outputs": [
    {
     "name": "stdout",
     "output_type": "stream",
     "text": [
      "A\n"
     ]
    }
   ],
   "source": [
    "marks = int(input(\"Enter your marks:\"))\n",
    "if  marks>=90:\n",
    "    print(\"A+\")\n",
    "elif marks>=75:\n",
    "    print(\"A\")\n",
    "elif marks>=60:\n",
    "    print(\"B\")\n",
    "elif marks<60:\n",
    "    print(\"fail\")\n",
    "else:\n",
    "    (\"invalid input\")"
   ]
  },
  {
   "cell_type": "code",
   "execution_count": 8,
   "metadata": {},
   "outputs": [
    {
     "name": "stdout",
     "output_type": "stream",
     "text": [
      "you are eligible to vote\n"
     ]
    }
   ],
   "source": [
    "age=20\n",
    "if age>=18:\n",
    "    print(\"you are eligible to vote\")\n",
    "else:\n",
    "    print(\"you are not eligible to vote\")"
   ]
  },
  {
   "cell_type": "code",
   "execution_count": null,
   "metadata": {},
   "outputs": [
    {
     "name": "stdout",
     "output_type": "stream",
     "text": [
      "It is a Possitive Number\n"
     ]
    }
   ],
   "source": [
    "#check number is possitive or not\n",
    "a=int(input(\"enter a number:\"))\n",
    "if a>0:\n",
    "   print(\"It is a Possitive Number\")\n",
    "else:\n",
    "   print(\"it is a negative number\")\n",
    "    \n"
   ]
  },
  {
   "cell_type": "code",
   "execution_count": null,
   "metadata": {},
   "outputs": [
    {
     "name": "stdout",
     "output_type": "stream",
     "text": [
      "even number\n"
     ]
    }
   ],
   "source": [
    "#program for check the number is even or odd\n",
    "b=int(input(\"inter a number:\"))\n",
    "if b%2==0:\n",
    "    print(\"even number\")\n",
    "else:\n",
    "    print(\"odd number\")\n"
   ]
  },
  {
   "cell_type": "code",
   "execution_count": null,
   "metadata": {},
   "outputs": [
    {
     "name": "stdout",
     "output_type": "stream",
     "text": [
      "Line segments are equal\n"
     ]
    }
   ],
   "source": [
    "#to check whether the two line segments are equal or not\n",
    "\n",
    "\n",
    "def are_line_segments_equal(p1, q1, p2, q2):\n",
    "    \"\"\"\n",
    "    Checks if two line segments defined by points (p1, q1) and (p2, q2) are equal in length. \n",
    "    \n",
    "    Args:\n",
    "        p1: Coordinates of the first endpoint of the first line segment.\n",
    "        q1: Coordinates of the second endpoint of the first line segment.\n",
    "        p2: Coordinates of the first endpoint of the second line segment.\n",
    "        q2: Coordinates of the second endpoint of the second line segment.\n",
    "    \n",
    "    Returns:\n",
    "        True if the line segments are equal in length, False otherwise.\n",
    "    \"\"\"\n",
    "    \n",
    "    dist1 = ((p1[0] - q1[0])**2 + (p1[1] - q1[1])**2)**0.5\n",
    "    dist2 = ((p2[0] - q2[0])**2 + (p2[1] - q2[1])**2)**0.5\n",
    "    \n",
    "    return abs(dist1 - dist2) < 1e-6  # Account for small floating point errors\n",
    "    \n",
    "# Example usage\n",
    "point1 = (1, 2)\n",
    "point2 = (5, 2)\n",
    "point3 = (0, 0)\n",
    "point4 = (4, 0)\n",
    "\n",
    "if are_line_segments_equal(point1, point2, point3, point4):\n",
    "    print(\"Line segments are equal\")\n",
    "else:\n",
    "    print(\"Line segments are not equal\")"
   ]
  },
  {
   "cell_type": "markdown",
   "metadata": {},
   "source": []
  },
  {
   "cell_type": "code",
   "execution_count": null,
   "metadata": {},
   "outputs": [],
   "source": [
    "#to check whether a triangle is equilateral, iscoseles, or scalene. print the message accordingly\n",
    "def classify_triangle(side1, side2, side3):\n",
    "    if not (side1 + side2 > side3 and side1 + side3 > side2 and side2 + side3 > side1):\n",
    "        return \"Invalid Triangle\"  # Not a valid triangle\n",
    "\n",
    "    if side1 == side2 == side3:\n",
    "        return \"equilateral\"\n",
    "    elif side1 == side2 or side1 == side3 or side2 == side3:\n",
    "        return \"isosceles\"\n",
    "    else:\n",
    "        return \"scalene\"\n",
    "try:\n",
    "    side1 = float(input(\"Enter the length of the first side: \"))\n",
    "    side2 = float(input(\"Enter the length of the second side: \"))\n",
    "    side3 = float(input(\"Enter the length of the third side: \"))\n",
    "\n",
    "    triangle_type = classify_triangle(side1, side2, side3)\n",
    "    print(\"The triangle is:\", triangle_type)\n",
    "\n",
    "except ValueError:\n",
    "    print(\"Invalid input. Please enter numeric values for side lengths.\")"
   ]
  },
  {
   "cell_type": "code",
   "execution_count": 3,
   "metadata": {},
   "outputs": [
    {
     "name": "stdout",
     "output_type": "stream",
     "text": [
      "e it is a vowel\n"
     ]
    }
   ],
   "source": [
    "# to check whether a character entered by user is a vowel or not\n",
    "ch=(input(\"Enter a  charecter:\"))\n",
    "if(ch==\"A\" or ch==\"a\" or ch==\"E\" or ch==\"e\" or ch==\"I\" or ch==\"i\" or ch==\"O\" or ch==\"o\" or ch==\"U\" or ch==\"u\"):\n",
    "    print(ch,\"it is a vowel\")\n",
    "else:print(\"not a vowel\")\n",
    "    \n"
   ]
  },
  {
   "cell_type": "code",
   "execution_count": null,
   "metadata": {},
   "outputs": [],
   "source": [
    "# nested if\n",
    "username=input(\"Enter your username:\")\n",
    "email=input(\"enter Your email:\")\n",
    "password=input(\"Enter your password:\")\n",
    "cpass=input(\"Enter the confirm password:\")\n",
    "if len(username)>5 and len(username)<=15:\n",
    "    if '@'in email and '.' in email:\n",
    "        if len(password)>=8 and len (password)<=20:\n",
    "            if password ==cpass:\n",
    "                print(\"Registration successfully done\")\n",
    "            else:\n",
    "                print(\"password and confirm password do not match\")\n",
    "        else:\n",
    "            (\"invalid password\")\n",
    "    else:\n",
    "        print(\"invalid email\")\n",
    "\n",
    "else:\n",
    "    print(\"invalid username\")\n",
    "\n"
   ]
  },
  {
   "cell_type": "code",
   "execution_count": 1,
   "metadata": {},
   "outputs": [
    {
     "name": "stdout",
     "output_type": "stream",
     "text": [
      "orange\n",
      "apple\n",
      "banana\n",
      "cherry\n"
     ]
    }
   ],
   "source": [
    "fruits = [\"orange\",\"apple\",\"banana\",\"cherry\"]\n",
    "for x in fruits:\n",
    "    print(x)"
   ]
  },
  {
   "cell_type": "code",
   "execution_count": null,
   "metadata": {},
   "outputs": [],
   "source": []
  }
 ],
 "metadata": {
  "kernelspec": {
   "display_name": "base",
   "language": "python",
   "name": "python3"
  },
  "language_info": {
   "codemirror_mode": {
    "name": "ipython",
    "version": 3
   },
   "file_extension": ".py",
   "mimetype": "text/x-python",
   "name": "python",
   "nbconvert_exporter": "python",
   "pygments_lexer": "ipython3",
   "version": "3.12.9"
  }
 },
 "nbformat": 4,
 "nbformat_minor": 2
}
