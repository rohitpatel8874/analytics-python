{
 "cells": [
  {
   "cell_type": "code",
   "execution_count": 2,
   "metadata": {},
   "outputs": [
    {
     "name": "stdout",
     "output_type": "stream",
     "text": [
      "['google', 'drive', 'uber', 'ola', 'wwigy', 'zomato', 'insta', 'facebook', 'watsapp']\n"
     ]
    }
   ],
   "source": [
    "apps=[\"google\",\"drive\",\"uber\",\"ola\",\"wwigy\",\"zomato\",\"insta\",\"facebook\",\"watsapp\"]\n",
    "print(apps)"
   ]
  },
  {
   "cell_type": "code",
   "execution_count": 3,
   "metadata": {},
   "outputs": [
    {
     "name": "stdout",
     "output_type": "stream",
     "text": [
      "zomato\n"
     ]
    }
   ],
   "source": [
    "print(apps[5])"
   ]
  },
  {
   "cell_type": "code",
   "execution_count": 5,
   "metadata": {},
   "outputs": [
    {
     "name": "stdout",
     "output_type": "stream",
     "text": [
      "insta\n"
     ]
    }
   ],
   "source": [
    "print(apps[-3])"
   ]
  },
  {
   "cell_type": "code",
   "execution_count": 9,
   "metadata": {},
   "outputs": [
    {
     "name": "stdout",
     "output_type": "stream",
     "text": [
      "['uber', 'ola', 'wwigy', 'zomato', 'insta']\n",
      "['drive', 'ola', 'zomato', 'facebook']\n",
      "['uber', 'ola', 'wwigy', 'zomato', 'insta', 'facebook', 'watsapp']\n",
      "['uber', 'wwigy', 'insta', 'watsapp']\n",
      "['google', 'drive', 'uber', 'ola', 'wwigy']\n",
      "['google', 'drive', 'uber', 'ola', 'wwigy', 'zomato', 'insta', 'facebook', 'watsapp']\n"
     ]
    }
   ],
   "source": [
    "#slaicing\n",
    "print(apps[2:7])\n",
    "print(apps[1:10:2])\n",
    "print(apps[2:])\n",
    "print(apps[2::2])\n",
    "print(apps[:5])\n",
    "print(apps[:])\n"
   ]
  },
  {
   "cell_type": "markdown",
   "metadata": {},
   "source": [
    "#list Method\n",
    "- append - to a dd an element at the end of the list\n",
    "- insert - to add an element at any apecific position in the list \n",
    "- pop - to delete an item using the index position of the element\n",
    "- remove - to delete an using using item Name \n",
    "- copy - to make a copy of the list\n",
    "- sort - to start the items in any particular order\n",
    "- extend - to combine two list in on list\n",
    "- reverse - to reverse the order of the list \n",
    "- clear - to remove all the items of the list but not the list"
   ]
  },
  {
   "cell_type": "code",
   "execution_count": 10,
   "metadata": {},
   "outputs": [
    {
     "name": "stdout",
     "output_type": "stream",
     "text": [
      "['google', 'drive', 'uber', 'ola', 'wwigy', 'zomato', 'insta', 'facebook', 'watsapp', 'snapchat']\n"
     ]
    }
   ],
   "source": [
    "apps.append(\"snapchat\")\n",
    "print(apps)"
   ]
  },
  {
   "cell_type": "code",
   "execution_count": 11,
   "metadata": {},
   "outputs": [
    {
     "name": "stdout",
     "output_type": "stream",
     "text": [
      "['google', 'drive', 'uber', 'paytm', 'ola', 'wwigy', 'zomato', 'insta', 'facebook', 'watsapp', 'snapchat']\n"
     ]
    }
   ],
   "source": [
    "apps.insert(3,\"paytm\")\n",
    "print(apps)"
   ]
  },
  {
   "cell_type": "code",
   "execution_count": null,
   "metadata": {},
   "outputs": [
    {
     "name": "stdout",
     "output_type": "stream",
     "text": [
      "['google', 'drive', 'uber', 'ola', 'wwigy', 'zomato', 'insta', 'facebook', 'watsapp', 'snapchat']\n"
     ]
    }
   ],
   "source": [
    "#pop\n",
    "apps.pop(3)\n",
    "print(apps)"
   ]
  },
  {
   "cell_type": "code",
   "execution_count": null,
   "metadata": {},
   "outputs": [
    {
     "name": "stdout",
     "output_type": "stream",
     "text": [
      "['google', 'drive', 'uber', 'ola', 'wwigy', 'zomato', 'insta', 'watsapp', 'snapchat']\n"
     ]
    }
   ],
   "source": [
    "#remove\n",
    "apps.remove(\"facebook\")\n",
    "print(apps)"
   ]
  },
  {
   "cell_type": "code",
   "execution_count": 14,
   "metadata": {},
   "outputs": [
    {
     "name": "stdout",
     "output_type": "stream",
     "text": [
      "['google', 'drive', 'uber', 'ola', 'wwigy', 'zomato', 'insta', 'watsapp', 'snapchat']\n"
     ]
    }
   ],
   "source": [
    "# copy\n",
    "x = apps.copy()\n",
    "print(x)"
   ]
  },
  {
   "cell_type": "code",
   "execution_count": null,
   "metadata": {},
   "outputs": [
    {
     "name": "stdout",
     "output_type": "stream",
     "text": [
      "[]\n"
     ]
    }
   ],
   "source": [
    "# clear\n",
    "x.clear()\n",
    "print(x)\n",
    "\n"
   ]
  },
  {
   "cell_type": "code",
   "execution_count": 16,
   "metadata": {},
   "outputs": [
    {
     "name": "stdout",
     "output_type": "stream",
     "text": [
      "['drive', 'google', 'insta', 'ola', 'snapchat', 'uber', 'watsapp', 'wwigy', 'zomato']\n"
     ]
    }
   ],
   "source": [
    "# sort\n",
    "apps.sort()\n",
    "print(apps)"
   ]
  },
  {
   "cell_type": "code",
   "execution_count": 17,
   "metadata": {},
   "outputs": [
    {
     "name": "stdout",
     "output_type": "stream",
     "text": [
      "['zomato', 'wwigy', 'watsapp', 'uber', 'snapchat', 'ola', 'insta', 'google', 'drive']\n"
     ]
    }
   ],
   "source": [
    "# reverse\n",
    "apps.reverse()\n",
    "print(apps)"
   ]
  },
  {
   "cell_type": "code",
   "execution_count": 18,
   "metadata": {},
   "outputs": [
    {
     "name": "stdout",
     "output_type": "stream",
     "text": [
      "['zomato', 'wwigy', 'watsapp', 'uber', 'snapchat', 'ola', 'insta', 'google', 'drive', 'water', 'juice', 'milk']\n"
     ]
    }
   ],
   "source": [
    "apps2 = [\"water\",\"juice\",\"milk\"]\n",
    "apps.extend(apps2)\n",
    "print(apps)"
   ]
  },
  {
   "cell_type": "code",
   "execution_count": 19,
   "metadata": {},
   "outputs": [
    {
     "name": "stdout",
     "output_type": "stream",
     "text": [
      "['water', 'juice', 'milk', 'zomato', 'wwigy', 'watsapp', 'uber', 'snapchat', 'ola', 'insta', 'google', 'drive', 'water', 'juice', 'milk']\n"
     ]
    }
   ],
   "source": [
    "apps2.extend(apps)\n",
    "print(apps2)"
   ]
  },
  {
   "cell_type": "code",
   "execution_count": null,
   "metadata": {},
   "outputs": [],
   "source": []
  }
 ],
 "metadata": {
  "kernelspec": {
   "display_name": "base",
   "language": "python",
   "name": "python3"
  },
  "language_info": {
   "codemirror_mode": {
    "name": "ipython",
    "version": 3
   },
   "file_extension": ".py",
   "mimetype": "text/x-python",
   "name": "python",
   "nbconvert_exporter": "python",
   "pygments_lexer": "ipython3",
   "version": "3.12.9"
  }
 },
 "nbformat": 4,
 "nbformat_minor": 2
}
